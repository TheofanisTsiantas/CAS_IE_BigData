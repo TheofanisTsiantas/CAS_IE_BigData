{
 "cells": [
  {
   "cell_type": "markdown",
   "id": "ed284075",
   "metadata": {},
   "source": [
    "<div style=\"border: 4px solid white; padding: 20px; background-color: #2596be; color: white;\">\n",
    "\n",
    "# <b>Explorative Datenanalyse mit Sparky</b>\n",
    "\n",
    "#### <i>CAS Information Engineering - Modul: Big data - FS 2024</i>\n",
    "\n",
    "<b> Autoren: </b> Hassler Robin, Tschanz Daniel, Tsiantas Theofanis (Gruppe 10)\n",
    "\n",
    "</div>"
   ]
  },
  {
   "cell_type": "markdown",
   "id": "9f7c9df5",
   "metadata": {},
   "source": [
    "# Teil 1 - Preprocessing"
   ]
  },
  {
   "cell_type": "code",
   "execution_count": null,
   "id": "5895c806",
   "metadata": {},
   "outputs": [],
   "source": [
    "# Notwendige Packete\n",
    "import sparky\n",
    "import pyspark\n",
    "import pyspark.sql\n",
    "from pyspark.sql.functions import trim, col, to_date, when\n",
    "import time"
   ]
  },
  {
   "cell_type": "code",
   "execution_count": null,
   "id": "29c65218",
   "metadata": {},
   "outputs": [],
   "source": [
    "# Accountdefinition für die Verbindung mit sparky\n",
    "zhawaccount = \"tsianthe\""
   ]
  },
  {
   "cell_type": "code",
   "execution_count": null,
   "id": "78b55c31",
   "metadata": {},
   "outputs": [],
   "source": [
    "sc = sparky.connect(f\"sparknotebook-{zhawaccount}\", 2)\n",
    "spark = pyspark.sql.SparkSession.builder.getOrCreate()"
   ]
  },
  {
   "cell_type": "markdown",
   "id": "ededaa4f",
   "metadata": {},
   "source": [
    "## Dateien einlesen"
   ]
  },
  {
   "cell_type": "code",
   "execution_count": null,
   "id": "866a0f9a",
   "metadata": {},
   "outputs": [],
   "source": [
    "# CSV-Dateien einlesen\n",
    "df_customer = spark.read.format(\"csv\").option(\"header\", \"true\").option(\"delimiter\", \",\").load(\"Customermaster.csv\")\n",
    "df_items = spark.read.format(\"csv\").option(\"header\", \"true\").option(\"delimiter\", \",\").load(\"Itemmaster.csv\")\n",
    "df_orders = spark.read.format(\"csv\").option(\"header\", \"true\").option(\"delimiter\", \",\").load(\"Orderlines.csv\")\n",
    "df_currency = spark.read.format(\"csv\").option(\"header\", \"true\").option(\"delimiter\", \",\").load(\"ExchangeRates.csv\")"
   ]
  },
  {
   "cell_type": "code",
   "execution_count": null,
   "id": "344ff206",
   "metadata": {},
   "outputs": [],
   "source": [
    "# Inhalt CSV-Dateien überprüfen\n",
    "display(df_customer.toPandas().head(2))\n",
    "display(df_items.toPandas().head(2))\n",
    "display(df_orders.toPandas().head(2))\n",
    "display(df_currency.toPandas().head(2))"
   ]
  },
  {
   "cell_type": "markdown",
   "id": "ba421dc0",
   "metadata": {},
   "source": [
    "## Data cleansing\n",
    "\n",
    "Nur die relevanten Informationen der Dateien beibehalten."
   ]
  },
  {
   "cell_type": "code",
   "execution_count": null,
   "id": "3dd534d9",
   "metadata": {},
   "outputs": [],
   "source": [
    "# Kunden\n",
    "df_customer = df_customer.withColumn(\"Status\", col(\"Status\").cast(\"integer\"))\n",
    "df_customer = df_customer.withColumn(\"Potential\", col(\"Potential\").cast(\"float\"))\n",
    "df_customer = df_customer.withColumn(\"Entry Date\", to_date(col(\"Entry Date\"), \"yyyyMMdd\"))\n",
    "df_customer = df_customer.drop(\"CGC\", \"Industry\", \"Potential\", \"DiscountModel\", \"PriceList\", \"TargetFlag\", \"IndirectFlag\", \"Oldcustomernr\", \"Newcustomernr\", \"Incoterms\", \"CRMflag\", \"CRMID\", \"SPC\", \"EntryDate\")\n",
    "display(df_customer.toPandas().head(2))"
   ]
  },
  {
   "cell_type": "code",
   "execution_count": null,
   "id": "80effc70",
   "metadata": {},
   "outputs": [],
   "source": [
    "# Objekte\n",
    "df_items = df_items.withColumn(\"Item number\", trim(df_items[\"Item number\"]))\n",
    "df_items = df_items.withColumn(\"Itemgroup\", trim(df_items[\"Itemgroup\"]))\n",
    "df_items = df_items.withColumn(\"Itemgroup\", col(\"Itemgroup\").cast(\"integer\"))\n",
    "df_items = df_items.withColumn(\"Productgroup\", trim(df_items[\"Productgroup\"]))\n",
    "df_items = df_items.withColumn(\"Itemtype\", trim(df_items[\"Itemtype\"]))\n",
    "df_items = df_items.drop(\"EntryDate\", \"Responsible\")\n",
    "display(df_items.toPandas().head(2))"
   ]
  },
  {
   "cell_type": "code",
   "execution_count": null,
   "id": "156be14d",
   "metadata": {},
   "outputs": [],
   "source": [
    "# Bestellungen\n",
    "df_orders = df_orders.withColumn(\"Customernumber\", trim(df_orders[\"Customernumber\"]))\n",
    "df_orders = df_orders.withColumn(\"Item number\", trim(df_orders[\"Item number\"]))\n",
    "df_orders = df_orders.withColumn(\"Status\", col(\"Status\").cast(\"integer\"))\n",
    "df_orders = df_orders.withColumn(\"Net price\", col(\"Net price\").cast(\"float\"))\n",
    "\n",
    "# Menge als int lesen\n",
    "quantity_columns = [\n",
    "    \"Ordered quantity\", \"Confirmed quantity\", \"Remaining quantity\", \n",
    "    \"Allocated quantity\", \"Picking list quantity\", \n",
    "    \"Delivered quantity\", \"Invoiced quantity\"\n",
    "]\n",
    "for column in quantity_columns:\n",
    "    df_orders = df_orders.withColumn(column, col(column).cast(\"integer\"))\n",
    " \n",
    "# Datenformat korrigieren\n",
    "date_columns = [\n",
    "    \"Requested delivery date\", \"Confirmed delivery date\", \n",
    "    \"Departure date\", \"Planning date\", \"Registration date\"\n",
    "]\n",
    "for column in date_columns:\n",
    "    df_orders = df_orders.withColumn(column, to_date(col(column), \"yyyyMMdd\"))\n",
    "\n",
    "# Der Datensatz beinhaltet einige ungültige Daten vor Mai 2019. Diese müssen gelöscht werden.\n",
    "df_orders = df_orders.filter(col(\"Registration date\") > \"2019-04-30\")\n",
    "    \n",
    "display(df_orders.toPandas().tail(2))"
   ]
  },
  {
   "cell_type": "code",
   "execution_count": null,
   "id": "097bd7ae",
   "metadata": {},
   "outputs": [],
   "source": [
    "# Währungen\n",
    "df_currency = df_currency.withColumn(\"LocalCurrency\", trim(df_currency[\"LocalCurrency\"]))\n",
    "df_currency = df_currency.withColumn(\"ForeignCurrency\", trim(df_currency[\"ForeignCurrency\"]))\n",
    "df_currency = df_currency.withColumn(\"ExchangeRate\", col(\"ExchangeRate\").cast(\"float\"))\n",
    "df_currency = df_currency.withColumn(\"ActiveDate\", to_date(col(\"ActiveDate\"), \"yyyyMMdd\"))\n",
    "display(df_currency.toPandas().head(2))"
   ]
  },
  {
   "cell_type": "markdown",
   "id": "0eafb297",
   "metadata": {},
   "source": [
    "## Abspeichern in CSV und Parquet"
   ]
  },
  {
   "cell_type": "code",
   "execution_count": null,
   "id": "43920a0d",
   "metadata": {},
   "outputs": [],
   "source": [
    "# CSV\n",
    "save_time_start = time.time()\n",
    "df_customer.write.mode(\"overwrite\").csv(\"./cleanedData/Customers.csv\")\n",
    "df_items.write.mode(\"overwrite\").csv(\"./cleanedData/Items.csv\")\n",
    "df_orders.write.mode(\"overwrite\").csv(\"./cleanedData/Orders.csv\")\n",
    "df_currency.write.mode(\"overwrite\").csv(\"./cleanedData/Exchangerates.csv\")\n",
    "save_time_finish = time.time()\n",
    "print(f\"Time taken to save: {save_time_finish - save_time_start:.2f} seconds\")"
   ]
  },
  {
   "cell_type": "code",
   "execution_count": null,
   "id": "064de37e",
   "metadata": {},
   "outputs": [],
   "source": [
    "# Parquet\n",
    "save_time_start = time.time()\n",
    "df_customer.write.mode(\"overwrite\").parquet(\"./cleanedData/Customers.parquet\")\n",
    "df_items.write.mode(\"overwrite\").parquet(\"./cleanedData/Items.parquet\")\n",
    "df_orders.write.mode(\"overwrite\").parquet(\"./cleanedData/Orders.parquet\")\n",
    "df_currency.write.mode(\"overwrite\").parquet(\"./cleanedData/Exchangerates.parquet\")\n",
    "save_time_finish = time.time()\n",
    "print(f\"Time taken to save: {save_time_finish - save_time_start:.2f} seconds\")"
   ]
  },
  {
   "cell_type": "code",
   "execution_count": null,
   "id": "c5a006dc",
   "metadata": {},
   "outputs": [],
   "source": [
    "sc.stop()"
   ]
  }
 ],
 "metadata": {
  "kernelspec": {
   "display_name": "Python 3 (ipykernel)",
   "language": "python",
   "name": "python3"
  },
  "language_info": {
   "codemirror_mode": {
    "name": "ipython",
    "version": 3
   },
   "file_extension": ".py",
   "mimetype": "text/x-python",
   "name": "python",
   "nbconvert_exporter": "python",
   "pygments_lexer": "ipython3",
   "version": "3.11.4"
  }
 },
 "nbformat": 4,
 "nbformat_minor": 5
}
