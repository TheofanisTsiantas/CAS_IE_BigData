{
 "cells": [
  {
   "cell_type": "markdown",
   "id": "ed284075",
   "metadata": {},
   "source": [
    "<div style=\"border: 4px solid white; padding: 20px; background-color: #2596be; color: white;\">\n",
    "\n",
    "# <b>Explorative Datenanalyse mit Sparky</b>\n",
    "\n",
    "#### <i>CAS Information Engineering - Modul: Big data - FS 2024</i>\n",
    "\n",
    "<b> Autoren: </b> Hassler Robin, Tschanz Daniel, Tsiantas Theofanis (Gruppe 10)\n",
    "\n",
    "</div>"
   ]
  },
  {
   "cell_type": "markdown",
   "id": "9f7c9df5",
   "metadata": {},
   "source": [
    "# Teil 2 - Map/Reduce Anylse"
   ]
  },
  {
   "cell_type": "code",
   "execution_count": null,
   "id": "d9ca8b04",
   "metadata": {},
   "outputs": [],
   "source": [
    "# Installation der notwendigen Bibliothecken\n",
    "%pip install seaborn"
   ]
  },
  {
   "cell_type": "code",
   "execution_count": null,
   "id": "5895c806",
   "metadata": {},
   "outputs": [],
   "source": [
    "# Notwendige Packete\n",
    "import sparky\n",
    "import pyspark\n",
    "import pyspark.sql\n",
    "from pyspark.sql.functions import trim, col, to_date, when\n",
    "import seaborn as sns\n",
    "import pandas as pd\n",
    "import matplotlib.pyplot as plt\n",
    "import time"
   ]
  },
  {
   "cell_type": "code",
   "execution_count": null,
   "id": "29c65218",
   "metadata": {},
   "outputs": [],
   "source": [
    "# Accountdefinition für die Verbindung mit sparky\n",
    "zhawaccount = \"tsianthe\""
   ]
  },
  {
   "cell_type": "code",
   "execution_count": null,
   "id": "78b55c31",
   "metadata": {},
   "outputs": [],
   "source": [
    "sc = sparky.connect(f\"sparknotebook-{zhawaccount}\", 4)\n",
    "spark = pyspark.sql.SparkSession.builder.getOrCreate()"
   ]
  },
  {
   "cell_type": "markdown",
   "id": "ededaa4f",
   "metadata": {},
   "source": [
    "## Dateien einlesen"
   ]
  },
  {
   "cell_type": "code",
   "execution_count": null,
   "id": "866a0f9a",
   "metadata": {},
   "outputs": [],
   "source": [
    "# CSV-Dateien einlesen\n",
    "load_time_start = time.time()\n",
    "df_customer = spark.read.format(\"csv\").option(\"header\", \"true\").option(\"delimiter\", \",\").load(\"./cleanedData/Customers.csv\")\n",
    "df_items = spark.read.format(\"csv\").option(\"header\", \"true\").option(\"delimiter\", \",\").load(\"./cleanedData/Items.csv\")\n",
    "df_orders = spark.read.format(\"csv\").option(\"header\", \"true\").option(\"delimiter\", \",\").load(\"./cleanedData/Orders.csv\")\n",
    "df_currency = spark.read.format(\"csv\").option(\"header\", \"true\").option(\"delimiter\", \",\").load(\"./cleanedData/Exchangerates.csv\")\n",
    "load_time_finish = time.time()\n",
    "print(f\"Time taken to save: {load_time_finish - load_time_start:.2f} seconds\")"
   ]
  },
  {
   "cell_type": "code",
   "execution_count": null,
   "id": "344ff206",
   "metadata": {},
   "outputs": [],
   "source": [
    "# Parquet-Dateien einlesen (zur Vergleich der Ladenzeit)\n",
    "load_time_start = time.time()\n",
    "df_customer_p = spark.read.parquet(\"./cleanedData/Customers.parquet\", header=True, inferSchema=True)\n",
    "df_items_p = spark.read.parquet(\"./cleanedData/Items.parquet\", header=True, inferSchema=True)\n",
    "df_orders_p = spark.read.parquet(\"./cleanedData/Orders.parquet\", header=True, inferSchema=True)\n",
    "df_currency_p = spark.read.parquet(\"./cleanedData/Exchangerates.parquet\", header=True, inferSchema=True)\n",
    "load_time_finish = time.time()\n",
    "print(f\"Time taken to save: {load_time_finish - load_time_start:.2f} seconds\")"
   ]
  },
  {
   "cell_type": "markdown",
   "id": "ba421dc0",
   "metadata": {},
   "source": [
    "## Map/Reduce\n",
    "\n",
    "### Monatlich neu akquirierte Kunden"
   ]
  },
  {
   "cell_type": "code",
   "execution_count": null,
   "id": "3dd534d9",
   "metadata": {},
   "outputs": [],
   "source": [
    "# Das Schema überprüfen\n",
    "df_customer_p.printSchema()"
   ]
  },
  {
   "cell_type": "code",
   "execution_count": null,
   "id": "e8adc1d4",
   "metadata": {},
   "outputs": [],
   "source": [
    "# Berechnung der neu akquierten Kunden pro Jahrestag\n",
    "rdd_customer = df_customer_p.rdd.map(lambda x:x[3]).map(lambda x:[x, 1]).reduceByKey(lambda x,y:x+y).sortByKey()\n",
    "rdd_customer.collect()"
   ]
  },
  {
   "cell_type": "code",
   "execution_count": null,
   "id": "ace7b1d9",
   "metadata": {
    "scrolled": true
   },
   "outputs": [],
   "source": [
    "# RDD nur auf Monatbasis mappen\n",
    "rdd_customer_month = rdd_customer.map(lambda x: ((x[0].year, x[0].month), x[1]))\n",
    "rdd_customer_month.collect()"
   ]
  },
  {
   "cell_type": "code",
   "execution_count": null,
   "id": "5256652a",
   "metadata": {},
   "outputs": [],
   "source": [
    "# Die gleichen Monaten desselben Jahres addieren\n",
    "rdd_aggregated = rdd_customer_month.reduceByKey(lambda a, b: a + b).sortByKey()\n",
    "rdd_aggregated.collect()"
   ]
  },
  {
   "cell_type": "code",
   "execution_count": null,
   "id": "1d02fd61",
   "metadata": {},
   "outputs": [],
   "source": [
    "# Variablen für Plot definieren\n",
    "dates = [row[0] for row in rdd_aggregated.collect()]\n",
    "events = [row[1] for row in rdd_aggregated.collect()]"
   ]
  },
  {
   "cell_type": "code",
   "execution_count": null,
   "id": "e78303e3",
   "metadata": {},
   "outputs": [],
   "source": [
    "# x-Achse als String definieren\n",
    "x_labels = [f\"{year}-{month:02d}\" for year, month in dates]"
   ]
  },
  {
   "cell_type": "code",
   "execution_count": null,
   "id": "afc73427",
   "metadata": {},
   "outputs": [],
   "source": [
    "# Plot erstellen und konfigurieren\n",
    "plt.figure(figsize=(10, 6))\n",
    "sns.lineplot(x=x_labels, y=events, sort=False)\n",
    "\n",
    "plt.title('Neue Kunden pro Monat')\n",
    "plt.xlabel('Jahr-Monat')\n",
    "plt.ylabel('Anzahl neuer Kunden')\n",
    "plt.xticks(rotation=45)\n",
    "plt.grid(True)\n",
    "plt.tight_layout()\n",
    "\n",
    "# Abstand der x-Achsenbeschriftungen definieren\n",
    "plt.xticks(ticks=range(0, 220, 20), rotation=45)\n",
    "\n",
    "plt.show()"
   ]
  },
  {
   "cell_type": "markdown",
   "id": "0eafb297",
   "metadata": {},
   "source": [
    "## ??"
   ]
  },
  {
   "cell_type": "code",
   "execution_count": null,
   "id": "c5a006dc",
   "metadata": {},
   "outputs": [],
   "source": [
    "sc.stop()"
   ]
  },
  {
   "cell_type": "code",
   "execution_count": null,
   "id": "1566c463",
   "metadata": {},
   "outputs": [],
   "source": []
  }
 ],
 "metadata": {
  "kernelspec": {
   "display_name": "Python 3 (ipykernel)",
   "language": "python",
   "name": "python3"
  },
  "language_info": {
   "codemirror_mode": {
    "name": "ipython",
    "version": 3
   },
   "file_extension": ".py",
   "mimetype": "text/x-python",
   "name": "python",
   "nbconvert_exporter": "python",
   "pygments_lexer": "ipython3",
   "version": "3.11.4"
  }
 },
 "nbformat": 4,
 "nbformat_minor": 5
}
