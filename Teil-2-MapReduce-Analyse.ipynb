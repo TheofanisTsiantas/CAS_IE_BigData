{
 "cells": [
  {
   "cell_type": "markdown",
   "id": "ed284075",
   "metadata": {},
   "source": [
    "<div style=\"border: 4px solid white; padding: 20px; background-color: #2596be; color: white;\">\n",
    "\n",
    "# <b>Explorative Datenanalyse mit Sparky</b>\n",
    "\n",
    "#### <i>CAS Information Engineering - Modul: Big data - FS 2024</i>\n",
    "\n",
    "<b> Autoren: </b> Hassler Robin, Tschanz Daniel, Tsiantas Theofanis (Gruppe 10)\n",
    "\n",
    "</div>"
   ]
  },
  {
   "cell_type": "markdown",
   "id": "9f7c9df5",
   "metadata": {},
   "source": [
    "# Teil 2 - Map/Reduce Anylse"
   ]
  },
  {
   "cell_type": "code",
   "execution_count": null,
   "id": "d9ca8b04",
   "metadata": {},
   "outputs": [],
   "source": [
    "# Installation der notwendigen Bibliothecken\n",
    "%pip install seaborn"
   ]
  },
  {
   "cell_type": "code",
   "execution_count": null,
   "id": "5895c806",
   "metadata": {},
   "outputs": [],
   "source": [
    "# Notwendige Packete\n",
    "import sparky\n",
    "import pyspark\n",
    "import pyspark.sql\n",
    "from pyspark.sql.functions import trim, col, to_date, when\n",
    "import seaborn as sns\n",
    "import pandas as pd\n",
    "import matplotlib.pyplot as plt\n",
    "from datetime import datetime\n",
    "import time"
   ]
  },
  {
   "cell_type": "code",
   "execution_count": null,
   "id": "29c65218",
   "metadata": {},
   "outputs": [],
   "source": [
    "# Accountdefinition für die Verbindung mit sparky\n",
    "zhawaccount = \"tsianthe\""
   ]
  },
  {
   "cell_type": "code",
   "execution_count": null,
   "id": "78b55c31",
   "metadata": {},
   "outputs": [],
   "source": [
    "sc = sparky.connect(f\"sparknotebook-{zhawaccount}\", 4)\n",
    "spark = pyspark.sql.SparkSession.builder.getOrCreate()"
   ]
  },
  {
   "cell_type": "markdown",
   "id": "ededaa4f",
   "metadata": {},
   "source": [
    "## Dateien einlesen"
   ]
  },
  {
   "cell_type": "code",
   "execution_count": null,
   "id": "866a0f9a",
   "metadata": {},
   "outputs": [],
   "source": [
    "# CSV-Dateien einlesen\n",
    "load_time_start = time.time()\n",
    "df_customer = spark.read.format(\"csv\").option(\"header\", \"true\").option(\"delimiter\", \",\").load(\"./cleanedData/Customers.csv\")\n",
    "df_items = spark.read.format(\"csv\").option(\"header\", \"true\").option(\"delimiter\", \",\").load(\"./cleanedData/Items.csv\")\n",
    "df_orders = spark.read.format(\"csv\").option(\"header\", \"true\").option(\"delimiter\", \",\").load(\"./cleanedData/Orders.csv\")\n",
    "df_currency = spark.read.format(\"csv\").option(\"header\", \"true\").option(\"delimiter\", \",\").load(\"./cleanedData/Exchangerates.csv\")\n",
    "load_time_finish = time.time()\n",
    "print(f\"Time taken to save: {load_time_finish - load_time_start:.2f} seconds\")"
   ]
  },
  {
   "cell_type": "code",
   "execution_count": null,
   "id": "344ff206",
   "metadata": {},
   "outputs": [],
   "source": [
    "# Parquet-Dateien einlesen (zur Vergleich der Ladenzeit)\n",
    "load_time_start = time.time()\n",
    "df_customer_p = spark.read.parquet(\"./cleanedData/Customers.parquet\", header=True, inferSchema=True)\n",
    "df_items_p = spark.read.parquet(\"./cleanedData/Items.parquet\", header=True, inferSchema=True)\n",
    "df_orders_p = spark.read.parquet(\"./cleanedData/Orders.parquet\", header=True, inferSchema=True)\n",
    "df_currency_p = spark.read.parquet(\"./cleanedData/Exchangerates.parquet\", header=True, inferSchema=True)\n",
    "load_time_finish = time.time()\n",
    "print(f\"Time taken to save: {load_time_finish - load_time_start:.2f} seconds\")"
   ]
  },
  {
   "cell_type": "markdown",
   "id": "ba421dc0",
   "metadata": {},
   "source": [
    "## Map/Reduce\n",
    "\n",
    "### Monatlich neu akquirierte Kunden"
   ]
  },
  {
   "cell_type": "code",
   "execution_count": null,
   "id": "3dd534d9",
   "metadata": {},
   "outputs": [],
   "source": [
    "# Das Schema überprüfen\n",
    "df_customer_p.printSchema()"
   ]
  },
  {
   "cell_type": "code",
   "execution_count": null,
   "id": "e8adc1d4",
   "metadata": {},
   "outputs": [],
   "source": [
    "# Berechnung der neu akquierten Kunden pro Jahrestag\n",
    "rdd_customer = df_customer_p.rdd.map(lambda x:x[3]).map(lambda x:[x, 1]).reduceByKey(lambda x,y:x+y).sortByKey()\n",
    "# rdd_customer.collect()"
   ]
  },
  {
   "cell_type": "code",
   "execution_count": null,
   "id": "ace7b1d9",
   "metadata": {
    "scrolled": true
   },
   "outputs": [],
   "source": [
    "# RDD nur auf Monatbasis mappen\n",
    "rdd_customer_month = rdd_customer.map(lambda x: ((x[0].year, x[0].month), x[1]))\n",
    "# rdd_customer_month.collect()"
   ]
  },
  {
   "cell_type": "code",
   "execution_count": null,
   "id": "5256652a",
   "metadata": {},
   "outputs": [],
   "source": [
    "# Die gleichen Monaten desselben Jahres addieren\n",
    "rdd_aggregated = rdd_customer_month.reduceByKey(lambda a, b: a + b).sortByKey()\n",
    "# rdd_aggregated.collect()"
   ]
  },
  {
   "cell_type": "code",
   "execution_count": null,
   "id": "1d02fd61",
   "metadata": {},
   "outputs": [],
   "source": [
    "# Variablen für Plot definieren\n",
    "dates = [row[0] for row in rdd_aggregated.collect()]\n",
    "events = [row[1] for row in rdd_aggregated.collect()]"
   ]
  },
  {
   "cell_type": "code",
   "execution_count": null,
   "id": "e78303e3",
   "metadata": {},
   "outputs": [],
   "source": [
    "# x-Achse als String definieren\n",
    "x_labels = [f\"{year}-{month:02d}\" for year, month in dates]"
   ]
  },
  {
   "cell_type": "code",
   "execution_count": null,
   "id": "afc73427",
   "metadata": {},
   "outputs": [],
   "source": [
    "# Plot erstellen und konfigurieren\n",
    "plt.figure(figsize=(10, 6))\n",
    "sns.lineplot(x=x_labels, y=events, sort=False)\n",
    "\n",
    "plt.title('Neue Kunden pro Monat')\n",
    "plt.xlabel('Jahr-Monat')\n",
    "plt.ylabel('Anzahl neuer Kunden')\n",
    "plt.xticks(rotation=45)\n",
    "plt.grid(True)\n",
    "plt.tight_layout()\n",
    "\n",
    "# Abstand der x-Achsenbeschriftungen definieren\n",
    "plt.xticks(ticks=range(0, 220, 20), rotation=45)\n",
    "\n",
    "plt.show()"
   ]
  },
  {
   "cell_type": "markdown",
   "id": "0eafb297",
   "metadata": {},
   "source": [
    "### Monatlicher Umsatz pro Objekt"
   ]
  },
  {
   "cell_type": "code",
   "execution_count": null,
   "id": "c5a006dc",
   "metadata": {},
   "outputs": [],
   "source": [
    "# Das Schema überprüfen\n",
    "# df_orders_p.printSchema()"
   ]
  },
  {
   "cell_type": "code",
   "execution_count": null,
   "id": "1566c463",
   "metadata": {},
   "outputs": [],
   "source": [
    "# Bestellungen RDD definieren \n",
    "# Schema: Customer Number | Status | Item number | Order quantity | Net price | Registration date\n",
    "orders_reduced = df_orders_p.rdd.map(lambda x:(x[2], x[6], x[9], x[10], x[17], x[22]))\n",
    "# orders_reduced.take(2)"
   ]
  },
  {
   "cell_type": "code",
   "execution_count": null,
   "id": "d03e4874",
   "metadata": {},
   "outputs": [],
   "source": [
    "# Umsatz pro Bestellung \n",
    "# Schema: Customer Number | Status | Item number | Umsatz | Registration date\n",
    "orders_reduced =orders_reduced.map(lambda x:(x[0], x[1], x[2], x[3]*x[4], x[5]))\n",
    "# orders_reduced.take(2)"
   ]
  },
  {
   "cell_type": "code",
   "execution_count": null,
   "id": "bde1af42",
   "metadata": {},
   "outputs": [],
   "source": [
    "# Nur gültige Bestellungen berücksichtigen (Status 5: Nur Angebot, Status > 90: Angebot abgesagt)\n",
    "# Schema: Customer Number | Item number | Umsatz | Registration date\n",
    "orders_reduced = orders_reduced.filter(lambda x: 5 < x[1] < 90)\n",
    "orders_reduced = orders_reduced.map(lambda x:(x[0], (x[2], x[3], x[4])))\n",
    "# orders_reduced.take(2)"
   ]
  },
  {
   "cell_type": "code",
   "execution_count": null,
   "id": "ccbca8d3",
   "metadata": {},
   "outputs": [],
   "source": [
    "# Das Schema überprüfen\n",
    "# df_customer_p.printSchema()"
   ]
  },
  {
   "cell_type": "code",
   "execution_count": null,
   "id": "2d78fc6b",
   "metadata": {},
   "outputs": [],
   "source": [
    "# Kunden RDD definieren \n",
    "# Schema: Customer Number | Currency\n",
    "df_customer_reduced = df_customer_p.rdd.map(lambda x:(x[0], x[2]))\n",
    "# df_customer_reduced.take(2)"
   ]
  },
  {
   "cell_type": "code",
   "execution_count": null,
   "id": "887c5a36",
   "metadata": {},
   "outputs": [],
   "source": [
    "# Anzahl der Bestellungen\n",
    "before_join_count = orders_reduced.count()"
   ]
  },
  {
   "cell_type": "code",
   "execution_count": null,
   "id": "a41b8581",
   "metadata": {},
   "outputs": [],
   "source": [
    "# RDD mit der Währnug pro Bestellung definieren \n",
    "# Schema: Customer Number | Item number | Umsatz | Registration date | Currency\n",
    "combined_rdd = orders_reduced.join(df_customer_reduced)\n",
    "# combined_rdd.collect()"
   ]
  },
  {
   "cell_type": "code",
   "execution_count": null,
   "id": "334f30e1",
   "metadata": {
    "scrolled": true
   },
   "outputs": [],
   "source": [
    "# Überprüfen, wie viele Bestellungen aufgrund der Join entfernt wurden\n",
    "print(f\"{abs(combined_rdd.count()-before_join_count)} Bestellungen wurden entfernt (keine gültige Kundennummer)\") "
   ]
  },
  {
   "cell_type": "code",
   "execution_count": null,
   "id": "e6e7267d",
   "metadata": {},
   "outputs": [],
   "source": [
    "# Nach Datum sortieren\n",
    "combined_rdd = combined_rdd.sortBy(lambda x: x[1][0][2])\n",
    "# combined_rdd.collect()"
   ]
  },
  {
   "cell_type": "code",
   "execution_count": null,
   "id": "093e7f78",
   "metadata": {},
   "outputs": [],
   "source": [
    "# Kunden entfernen von RDD und Objektnummer als Key definieren\n",
    "combined_rdd = combined_rdd.map(lambda x: (x[1][0][0], (x[1][0][1], x[1][0][2], x[1][1])))\n",
    "# combined_rdd.collect()"
   ]
  },
  {
   "cell_type": "code",
   "execution_count": null,
   "id": "3ef186cf",
   "metadata": {},
   "outputs": [],
   "source": [
    "# Das Schema überprüfen\n",
    "# df_items_p.printSchema()"
   ]
  },
  {
   "cell_type": "code",
   "execution_count": null,
   "id": "184815f7",
   "metadata": {},
   "outputs": [],
   "source": [
    "# Objekte RDD definieren \n",
    "# Schema: Item Number | Itemgroup\n",
    "df_items_reduced = df_items_p.rdd.map(lambda x:(x[0], x[2]))\n",
    "# df_items_reduced.take(2)"
   ]
  },
  {
   "cell_type": "code",
   "execution_count": null,
   "id": "fc6d99ff",
   "metadata": {},
   "outputs": [],
   "source": [
    "# Anzahl der Bestellungen\n",
    "before_join_count = combined_rdd.count()"
   ]
  },
  {
   "cell_type": "code",
   "execution_count": null,
   "id": "7030c0e2",
   "metadata": {},
   "outputs": [],
   "source": [
    "# RDD mit der Objektgruppe (Item group) pro Bestellung definieren \n",
    "# Schema: Item number | Umsatz | Registration date | Currency | Itemgroup\n",
    "combined_rdd = combined_rdd.join(df_items_reduced)\n",
    "# combined_rdd.collect()"
   ]
  },
  {
   "cell_type": "code",
   "execution_count": null,
   "id": "2b30abb7",
   "metadata": {},
   "outputs": [],
   "source": [
    "# Überprüfen, wie viele Bestellungen aufgrund der Join entfernt wurden\n",
    "print(f\"{abs(combined_rdd.count()-before_join_count)} Bestellungen wurden entfernt (keine gültige Itemgruppe)\") "
   ]
  },
  {
   "cell_type": "code",
   "execution_count": null,
   "id": "495e754d",
   "metadata": {
    "scrolled": true
   },
   "outputs": [],
   "source": [
    "# Objektnummer (Item number) von RDD entfernen. Erneut gemäss Datum sortieren \n",
    "# Schema: Umsatz | Registration date | Currency | Itemgroup\n",
    "combined_rdd = combined_rdd.map(lambda x: (x[1][0][0], x[1][0][1], x[1][0][2], x[1][1])).sortBy(lambda x: x[1])\n",
    "# combined_rdd.collect()"
   ]
  },
  {
   "cell_type": "code",
   "execution_count": null,
   "id": "4aac529a",
   "metadata": {},
   "outputs": [],
   "source": [
    "# Datum-Währung kombinieren. Datum nur auf Monatbasis ausdrücken\n",
    "# Schema: Datum-Währung Umsatz | Itemgroup\n",
    "combined_rdd = combined_rdd.map(lambda x:(f\"{x[1].year}-{x[1].month}-{x[2]}\", x[0], x[3]))\n",
    "#combined_rdd.collect()"
   ]
  },
  {
   "cell_type": "code",
   "execution_count": null,
   "id": "68ada230",
   "metadata": {},
   "outputs": [],
   "source": [
    "# Datum-Währung als Schlüssel setzten\n",
    "combined_rdd = combined_rdd.map(lambda x:(x[0], (x[1], x[2])))\n",
    "#combined_rdd.collect()"
   ]
  },
  {
   "cell_type": "code",
   "execution_count": null,
   "id": "4a29ed80",
   "metadata": {},
   "outputs": [],
   "source": [
    "# Das Schema überprüfen\n",
    "# df_currency_p.printSchema()"
   ]
  },
  {
   "cell_type": "code",
   "execution_count": null,
   "id": "83414a66",
   "metadata": {},
   "outputs": [],
   "source": [
    "# Objekte RDD definieren \n",
    "# Schema: Datum | Währung | Kurs\n",
    "df_currency_reduced = df_currency_p.rdd.map(lambda x:(x[0], x[2], x[3]))\n",
    "# df_currency_reduced.collect()"
   ]
  },
  {
   "cell_type": "code",
   "execution_count": null,
   "id": "43b36002",
   "metadata": {},
   "outputs": [],
   "source": [
    "# Ungültige Daten entfernen (filter)\n",
    "# Nur den Jahr-Monat behalten. \n",
    "# Neuer Schlüssel als Jahr-Monat-Währung definieren\n",
    "df_currency_reduced = df_currency_reduced.filter(lambda x: x[0] is not None)\n",
    "df_currency_reduced = df_currency_reduced.map(lambda x:(f\"{x[0].year}-{x[0].month}-{x[1]}\", x[2]))\n",
    "# df_currency_reduced.collect()"
   ]
  },
  {
   "cell_type": "code",
   "execution_count": null,
   "id": "dd0e37dd",
   "metadata": {},
   "outputs": [],
   "source": [
    "# Anzahl der Bestellungen\n",
    "before_join_count = combined_rdd.count()"
   ]
  },
  {
   "cell_type": "code",
   "execution_count": null,
   "id": "915d92ec",
   "metadata": {},
   "outputs": [],
   "source": [
    "# RDD mit der Wechselkurs pro Bestellung definieren. Nur die Bestellungen berücksichtigen,\n",
    "# für die ein gültiger Wechselkurs existiert.\n",
    "# Schema: Jahr-Monat-Währung | Umsatz | Itemgroup | Wechselkurs\n",
    "combined_rdd = combined_rdd.join(df_currency_reduced)"
   ]
  },
  {
   "cell_type": "code",
   "execution_count": null,
   "id": "37d4541e",
   "metadata": {},
   "outputs": [],
   "source": [
    "# Überprüfen, wie viele Bestellungen aufgrund der Join entfernt wurden\n",
    "print(f\"{abs(combined_rdd.count()-before_join_count)} Bestellungen wurden entfernt (keine gültige Itemgruppe)\") "
   ]
  },
  {
   "cell_type": "code",
   "execution_count": null,
   "id": "ce25f5aa",
   "metadata": {},
   "outputs": [],
   "source": [
    "# Die Währung vom Schlüssel löschen\n",
    "# Als erstes die Währung löschen\n",
    "combined_rdd=combined_rdd.map(lambda x: ((x[0][:7]), x[1]))\n",
    "# Dann \"-\" entfernen (problematisch für die Monate mit einem Ziffer!)\n",
    "combined_rdd=combined_rdd.map(lambda x: (x[0].replace('-', ''), x[1]))\n",
    "# Schlüssel als datetime-Objekt definieren und nur Jahr und Monat behalten\n",
    "combined_rdd = combined_rdd.map(lambda x: (datetime.strptime(x[0], \"%Y%m\").strftime(\"%Y-%m\"), x[1]))\n",
    "#combined_rdd.takeSample(False,200)"
   ]
  },
  {
   "cell_type": "code",
   "execution_count": null,
   "id": "722e53c9",
   "metadata": {},
   "outputs": [],
   "source": [
    "# RDD umformen\n",
    "# Schema: Jahr-Monat | Itemgroup | Umsatz | Wechselkurs\n",
    "combined_rdd = combined_rdd.map(lambda x:(x[0], x[1][0][1], x[1][0][0], x[1][1]))\n",
    "#combined_rdd.collect()"
   ]
  },
  {
   "cell_type": "code",
   "execution_count": null,
   "id": "7c04b432",
   "metadata": {},
   "outputs": [],
   "source": [
    "# RDD umformen\n",
    "# Schema: Jahr-Monat | Itemgroup | Umsatz in CHF\n",
    "combined_rdd = combined_rdd.map(lambda x:(x[0],x[1], x[2]*x[3]/1000000))\n",
    "#combined_rdd.takeSample(False,50)"
   ]
  },
  {
   "cell_type": "code",
   "execution_count": null,
   "id": "96584108",
   "metadata": {},
   "outputs": [],
   "source": [
    "# RDDs für jede Objektgruppe definieren\n",
    "item_1000_rdd = combined_rdd.filter(lambda x:x[1]==1000).map(lambda x:(x[0], x[2])).reduceByKey(lambda x,y:x+y).sortByKey()\n",
    "item_1100_rdd = combined_rdd.filter(lambda x:x[1]==1100).map(lambda x:(x[0], x[2])).reduceByKey(lambda x,y:x+y).sortByKey()\n",
    "item_1200_rdd = combined_rdd.filter(lambda x:x[1]==1200).map(lambda x:(x[0], x[2])).reduceByKey(lambda x,y:x+y).sortByKey()\n",
    "item_1300_rdd = combined_rdd.filter(lambda x:x[1]==1300).map(lambda x:(x[0], x[2])).reduceByKey(lambda x,y:x+y).sortByKey()\n",
    "item_1400_rdd = combined_rdd.filter(lambda x:x[1]==1400).map(lambda x:(x[0], x[2])).reduceByKey(lambda x,y:x+y).sortByKey()\n",
    "item_1500_rdd = combined_rdd.filter(lambda x:x[1]==1500).map(lambda x:(x[0], x[2])).reduceByKey(lambda x,y:x+y).sortByKey()\n",
    "item_1600_rdd = combined_rdd.filter(lambda x:x[1]==1600).map(lambda x:(x[0], x[2])).reduceByKey(lambda x,y:x+y).sortByKey()\n",
    "item_1700_rdd = combined_rdd.filter(lambda x:x[1]==1700).map(lambda x:(x[0], x[2])).reduceByKey(lambda x,y:x+y).sortByKey()\n",
    "item_1800_rdd = combined_rdd.filter(lambda x:x[1]==1800).map(lambda x:(x[0], x[2])).reduceByKey(lambda x,y:x+y).sortByKey()\n",
    "item_1900_rdd = combined_rdd.filter(lambda x:x[1]==1900).map(lambda x:(x[0], x[2])).reduceByKey(lambda x,y:x+y).sortByKey()\n",
    "item_2000_rdd = combined_rdd.filter(lambda x:x[1]==2000).map(lambda x:(x[0], x[2])).reduceByKey(lambda x,y:x+y).sortByKey()\n",
    "#item_1000_rdd.collect()"
   ]
  },
  {
   "cell_type": "code",
   "execution_count": null,
   "id": "1360878d",
   "metadata": {},
   "outputs": [],
   "source": [
    "# X- und Y-Achse für jedes RDD-Objeckt\n",
    "x1000, y1000 = zip(*item_1000_rdd.collect())\n",
    "x1100, y1100 = zip(*item_1100_rdd.collect())\n",
    "x1200, y1200 = zip(*item_1200_rdd.collect())\n",
    "x1300, y1300 = zip(*item_1300_rdd.collect())\n",
    "x1400, y1400 = zip(*item_1400_rdd.collect())\n",
    "x1500, y1500 = zip(*item_1500_rdd.collect())\n",
    "x1600, y1600 = zip(*item_1600_rdd.collect())\n",
    "x1700, y1700 = zip(*item_1700_rdd.collect())\n",
    "x1800, y1800 = zip(*item_1800_rdd.collect())\n",
    "x1900, y1900 = zip(*item_1900_rdd.collect())\n",
    "x2000, y2000 = zip(*item_2000_rdd.collect())\n",
    "\n",
    "# Umwandlung zu strings für das Plot\n",
    "x1000_labels = [str(date) for date in x1000]\n",
    "x1100_labels = [str(date) for date in x1100]\n",
    "x1200_labels = [str(date) for date in x1200]\n",
    "x1300_labels = [str(date) for date in x1300]\n",
    "x1400_labels = [str(date) for date in x1400]\n",
    "x1500_labels = [str(date) for date in x1500]\n",
    "x1600_labels = [str(date) for date in x1600]\n",
    "x1700_labels = [str(date) for date in x1700]\n",
    "x1800_labels = [str(date) for date in x1800]\n",
    "x1900_labels = [str(date) for date in x1900]\n",
    "x2000_labels = [str(date) for date in x2000]"
   ]
  },
  {
   "cell_type": "code",
   "execution_count": null,
   "id": "ac324a72",
   "metadata": {},
   "outputs": [],
   "source": [
    "# Plotting\n",
    "plt.figure(figsize=(10, 6))\n",
    "\n",
    "# Plot RDDs\n",
    "plt.plot(x1000_labels, y1000, linestyle='-', color='blue', label='Item: 1000')\n",
    "plt.plot(x1100_labels, y1100, linestyle='-', color='green', label='Item: 1100')\n",
    "plt.plot(x1200_labels, y1200, linestyle='-', color='red', label='Item: 1200')\n",
    "plt.plot(x1300_labels, y1300, linestyle='-', color='orange', label='Item: 1300')\n",
    "plt.plot(x1400_labels, y1400, linestyle='-', color='black', label='Item: 1400')\n",
    "plt.plot(x1500_labels, y1500, linestyle='-', color='yellow', label='Item: 1500')\n",
    "plt.plot(x1600_labels, y1600, linestyle='-.', color='blue', label='Item: 1600')\n",
    "plt.plot(x1700_labels, y1700, linestyle='-.', color='green', label='Item: 1700')\n",
    "plt.plot(x1800_labels, y1800, linestyle='-.', color='red', label='Item: 1800')\n",
    "plt.plot(x1900_labels, y1900, linestyle='-.', color='orange', label='Item: 1900')\n",
    "plt.plot(x2000_labels, y2000, linestyle='-.', color='black', label='Item: 2000')\n",
    "\n",
    "# Ploteigenschaften\n",
    "plt.xlabel('Datum')\n",
    "plt.ylabel('CHF-Mio')\n",
    "plt.title('Umsatz pro Object und Monat')\n",
    "plt.xticks(rotation=45)  \n",
    "\n",
    "plt.legend()"
   ]
  },
  {
   "cell_type": "code",
   "execution_count": null,
   "id": "551fb395",
   "metadata": {},
   "outputs": [],
   "source": [
    "sc.stop()"
   ]
  }
 ],
 "metadata": {
  "kernelspec": {
   "display_name": "Python 3 (ipykernel)",
   "language": "python",
   "name": "python3"
  },
  "language_info": {
   "codemirror_mode": {
    "name": "ipython",
    "version": 3
   },
   "file_extension": ".py",
   "mimetype": "text/x-python",
   "name": "python",
   "nbconvert_exporter": "python",
   "pygments_lexer": "ipython3",
   "version": "3.11.4"
  }
 },
 "nbformat": 4,
 "nbformat_minor": 5
}
